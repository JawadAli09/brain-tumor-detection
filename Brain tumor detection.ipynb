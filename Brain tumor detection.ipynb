{
 "cells": [
  {
   "cell_type": "code",
   "execution_count": 2,
   "id": "94e42495",
   "metadata": {},
   "outputs": [],
   "source": [
    "import os\n",
    "from keras.layers import Conv2D, MaxPool2D, Dropout, Flatten, Dense, BatchNormalization, GlobalAvgPool2D\n",
    "from keras.models import Sequential\n",
    "from keras.preprocessing.image import ImageDataGenerator\n",
    "import keras\n",
    "from sklearn.metrics import f1_score\n",
    "from keras.models import load_model\n",
    "import matplotlib.pyplot as plt\n",
    "\n",
    "%matplotlib inline"
   ]
  },
  {
   "cell_type": "code",
   "execution_count": 3,
   "id": "1f78e05f",
   "metadata": {},
   "outputs": [
    {
     "name": "stdout",
     "output_type": "stream",
     "text": [
      "{'no': 795, 'yes': 879}\n"
     ]
    },
    {
     "ename": "FileNotFoundError",
     "evalue": "[WinError 3] The system cannot find the path specified: 'dataset'",
     "output_type": "error",
     "traceback": [
      "\u001b[1;31m---------------------------------------------------------------------------\u001b[0m",
      "\u001b[1;31mFileNotFoundError\u001b[0m                         Traceback (most recent call last)",
      "Input \u001b[1;32mIn [3]\u001b[0m, in \u001b[0;36m<cell line: 6>\u001b[1;34m()\u001b[0m\n\u001b[0;32m      4\u001b[0m     numberofimg[\u001b[38;5;28mdir\u001b[39m] \u001b[38;5;241m=\u001b[39m \u001b[38;5;28mlen\u001b[39m(os\u001b[38;5;241m.\u001b[39mlistdir(os\u001b[38;5;241m.\u001b[39mpath\u001b[38;5;241m.\u001b[39mjoin(root_dir, \u001b[38;5;28mdir\u001b[39m)))\n\u001b[0;32m      5\u001b[0m \u001b[38;5;28mprint\u001b[39m(numberofimg)\n\u001b[1;32m----> 6\u001b[0m \u001b[43mos\u001b[49m\u001b[38;5;241;43m.\u001b[39;49m\u001b[43mlistdir\u001b[49m\u001b[43m(\u001b[49m\u001b[38;5;124;43m\"\u001b[39;49m\u001b[38;5;124;43mdataset\u001b[39;49m\u001b[38;5;124;43m\"\u001b[39;49m\u001b[43m)\u001b[49m\n",
      "\u001b[1;31mFileNotFoundError\u001b[0m: [WinError 3] The system cannot find the path specified: 'dataset'"
     ]
    }
   ],
   "source": [
    "root_dir = \"train\"\n",
    "numberofimg = {}\n",
    "for dir in os.listdir(root_dir):\n",
    "    numberofimg[dir] = len(os.listdir(os.path.join(root_dir, dir)))\n",
    "print(numberofimg)\n",
    "os.listdir(\"dataset\")\n"
   ]
  },
  {
   "cell_type": "code",
   "execution_count": 4,
   "id": "4ab49ce0",
   "metadata": {},
   "outputs": [
    {
     "name": "stdout",
     "output_type": "stream",
     "text": [
      "Model: \"sequential\"\n",
      "_________________________________________________________________\n",
      " Layer (type)                Output Shape              Param #   \n",
      "=================================================================\n",
      " conv2d (Conv2D)             (None, 222, 222, 16)      448       \n",
      "                                                                 \n",
      " conv2d_1 (Conv2D)           (None, 220, 220, 36)      5220      \n",
      "                                                                 \n",
      " max_pooling2d (MaxPooling2D  (None, 110, 110, 36)     0         \n",
      " )                                                               \n",
      "                                                                 \n",
      " conv2d_2 (Conv2D)           (None, 108, 108, 64)      20800     \n",
      "                                                                 \n",
      " max_pooling2d_1 (MaxPooling  (None, 54, 54, 64)       0         \n",
      " 2D)                                                             \n",
      "                                                                 \n",
      " conv2d_3 (Conv2D)           (None, 52, 52, 128)       73856     \n",
      "                                                                 \n",
      " max_pooling2d_2 (MaxPooling  (None, 26, 26, 128)      0         \n",
      " 2D)                                                             \n",
      "                                                                 \n",
      " dropout (Dropout)           (None, 26, 26, 128)       0         \n",
      "                                                                 \n",
      " flatten (Flatten)           (None, 86528)             0         \n",
      "                                                                 \n",
      " dense (Dense)               (None, 64)                5537856   \n",
      "                                                                 \n",
      " dropout_1 (Dropout)         (None, 64)                0         \n",
      "                                                                 \n",
      " dense_1 (Dense)             (None, 1)                 65        \n",
      "                                                                 \n",
      "=================================================================\n",
      "Total params: 5,638,245\n",
      "Trainable params: 5,638,245\n",
      "Non-trainable params: 0\n",
      "_________________________________________________________________\n"
     ]
    }
   ],
   "source": [
    "# CNN model\n",
    "\n",
    "model = Sequential()\n",
    "model.add(Conv2D(filters= 16, kernel_size=(3,3), activation= 'relu', input_shape = (224, 224,3)))\n",
    "\n",
    "model.add(Conv2D(filters= 36, kernel_size=(3,3), activation= 'relu'))\n",
    "model.add(MaxPool2D(pool_size= (2,2)))\n",
    "\n",
    "model.add(Conv2D(filters= 64, kernel_size=(3,3), activation= 'relu'))\n",
    "model.add(MaxPool2D(pool_size= (2,2)))\n",
    "\n",
    "model.add(Conv2D(filters= 128, kernel_size=(3,3), activation= 'relu'))\n",
    "model.add(MaxPool2D(pool_size= (2,2)))\n",
    "\n",
    "model.add(Dropout(rate = 0.25))\n",
    "\n",
    "model.add(Flatten())\n",
    "model.add(Dense(units=64, activation= 'relu'))\n",
    "model.add(Dropout(rate= 0.25))\n",
    "\n",
    "model.add(Dense(units=1, activation= 'sigmoid'))\n",
    "\n",
    "model.summary()"
   ]
  },
  {
   "cell_type": "code",
   "execution_count": 5,
   "id": "123a7492",
   "metadata": {},
   "outputs": [],
   "source": [
    "model.compile(optimizer = 'adam', loss=keras.losses.binary_crossentropy, metrics=['accuracy'])"
   ]
  },
  {
   "cell_type": "code",
   "execution_count": 7,
   "id": "cbc79017",
   "metadata": {},
   "outputs": [],
   "source": [
    "def preprocessingimages1(path):\n",
    "    \"\"\"\n",
    "    input : path \n",
    "    output : Pre Precessing images\n",
    "    \"\"\"\n",
    "    image_data = ImageDataGenerator(zoom_range = 0.2, shear_range = 0.2, \n",
    "                                   rescale= 1/225, horizontal_flip=True)\n",
    "    image = image_data.flow_from_directory(directory = path, target_size = (224,224), batch_size= 32, class_mode = 'binary')\n",
    "    \n",
    "    return image"
   ]
  },
  {
   "cell_type": "code",
   "execution_count": 8,
   "id": "a6f95bd4",
   "metadata": {},
   "outputs": [],
   "source": [
    "def preprocessingimages2(path):\n",
    "    \"\"\"\n",
    "    input : path \n",
    "    output : Pre Precessing images\n",
    "    \"\"\"\n",
    "    image_data = ImageDataGenerator(rescale= 1/225)\n",
    "    image = image_data.flow_from_directory(directory = path, target_size = (224,224), batch_size= 32, class_mode = 'binary')\n",
    "    \n",
    "    return image"
   ]
  },
  {
   "cell_type": "code",
   "execution_count": 6,
   "id": "2d446407",
   "metadata": {},
   "outputs": [
    {
     "name": "stdout",
     "output_type": "stream",
     "text": [
      "Found 185 images belonging to 2 classes.\n"
     ]
    }
   ],
   "source": [
    "path= \"validation\"\n",
    "val_data = preprocessingimages2(path)"
   ]
  },
  {
   "cell_type": "code",
   "execution_count": 7,
   "id": "01286ba6",
   "metadata": {},
   "outputs": [
    {
     "name": "stdout",
     "output_type": "stream",
     "text": [
      "Found 1672 images belonging to 2 classes.\n"
     ]
    }
   ],
   "source": [
    "path= \"train\"\n",
    "train_data = preprocessingimages1(path)"
   ]
  },
  {
   "cell_type": "code",
   "execution_count": 11,
   "id": "67fb172b",
   "metadata": {},
   "outputs": [],
   "source": [
    "from keras.callbacks import ModelCheckpoint\n",
    "\n",
    "mc = ModelCheckpoint(monitor = \"val_accuracy\", filepath = \"bestmodel.h5\", verbose=1, save_best_only=True, mode='auto')\n"
   ]
  },
  {
   "cell_type": "code",
   "execution_count": 12,
   "id": "0864a2c2",
   "metadata": {
    "scrolled": false
   },
   "outputs": [
    {
     "name": "stderr",
     "output_type": "stream",
     "text": [
      "C:\\Users\\SHAMS UL AMIN\\AppData\\Local\\Temp\\ipykernel_6768\\1440077760.py:1: UserWarning: `Model.fit_generator` is deprecated and will be removed in a future version. Please use `Model.fit`, which supports generators.\n",
      "  hs = model.fit_generator(generator= train_data,\n"
     ]
    },
    {
     "name": "stdout",
     "output_type": "stream",
     "text": [
      "Epoch 1/30\n",
      "53/53 [==============================] - ETA: 0s - loss: 0.6375 - accuracy: 0.6507\n",
      "Epoch 1: val_accuracy improved from -inf to 0.76216, saving model to bestmodel.h5\n",
      "53/53 [==============================] - 284s 5s/step - loss: 0.6375 - accuracy: 0.6507 - val_loss: 0.5888 - val_accuracy: 0.7622\n",
      "Epoch 2/30\n",
      "53/53 [==============================] - ETA: 0s - loss: 0.5778 - accuracy: 0.7189  \n",
      "Epoch 2: val_accuracy improved from 0.76216 to 0.77297, saving model to bestmodel.h5\n",
      "53/53 [==============================] - 24150s 464s/step - loss: 0.5778 - accuracy: 0.7189 - val_loss: 0.4749 - val_accuracy: 0.7730\n",
      "Epoch 3/30\n",
      "53/53 [==============================] - ETA: 0s - loss: 0.5308 - accuracy: 0.7500\n",
      "Epoch 3: val_accuracy improved from 0.77297 to 0.80000, saving model to bestmodel.h5\n",
      "53/53 [==============================] - 274s 5s/step - loss: 0.5308 - accuracy: 0.7500 - val_loss: 0.4850 - val_accuracy: 0.8000\n",
      "Epoch 4/30\n",
      "53/53 [==============================] - ETA: 0s - loss: 0.5171 - accuracy: 0.7500\n",
      "Epoch 4: val_accuracy did not improve from 0.80000\n",
      "53/53 [==============================] - 264s 5s/step - loss: 0.5171 - accuracy: 0.7500 - val_loss: 0.5123 - val_accuracy: 0.7459\n",
      "Epoch 5/30\n",
      "53/53 [==============================] - ETA: 0s - loss: 0.4999 - accuracy: 0.7632\n",
      "Epoch 5: val_accuracy did not improve from 0.80000\n",
      "53/53 [==============================] - 294s 6s/step - loss: 0.4999 - accuracy: 0.7632 - val_loss: 0.4655 - val_accuracy: 0.7784\n",
      "Epoch 6/30\n",
      "53/53 [==============================] - ETA: 0s - loss: 0.4667 - accuracy: 0.7841\n",
      "Epoch 6: val_accuracy improved from 0.80000 to 0.80541, saving model to bestmodel.h5\n",
      "53/53 [==============================] - 401s 8s/step - loss: 0.4667 - accuracy: 0.7841 - val_loss: 0.4034 - val_accuracy: 0.8054\n",
      "Epoch 7/30\n",
      "53/53 [==============================] - ETA: 0s - loss: 0.4436 - accuracy: 0.8038\n",
      "Epoch 7: val_accuracy improved from 0.80541 to 0.82703, saving model to bestmodel.h5\n",
      "53/53 [==============================] - 351s 7s/step - loss: 0.4436 - accuracy: 0.8038 - val_loss: 0.3940 - val_accuracy: 0.8270\n",
      "Epoch 8/30\n",
      "53/53 [==============================] - ETA: 0s - loss: 0.4629 - accuracy: 0.7793\n",
      "Epoch 8: val_accuracy did not improve from 0.82703\n",
      "53/53 [==============================] - 454s 9s/step - loss: 0.4629 - accuracy: 0.7793 - val_loss: 0.4104 - val_accuracy: 0.7946\n",
      "Epoch 9/30\n",
      "53/53 [==============================] - ETA: 0s - loss: 0.4206 - accuracy: 0.7943\n",
      "Epoch 9: val_accuracy improved from 0.82703 to 0.83243, saving model to bestmodel.h5\n",
      "53/53 [==============================] - 526s 10s/step - loss: 0.4206 - accuracy: 0.7943 - val_loss: 0.4124 - val_accuracy: 0.8324\n",
      "Epoch 10/30\n",
      "53/53 [==============================] - ETA: 0s - loss: 0.4193 - accuracy: 0.8194\n",
      "Epoch 10: val_accuracy did not improve from 0.83243\n",
      "53/53 [==============================] - 492s 9s/step - loss: 0.4193 - accuracy: 0.8194 - val_loss: 0.3537 - val_accuracy: 0.8270\n",
      "Epoch 11/30\n",
      "53/53 [==============================] - ETA: 0s - loss: 0.3892 - accuracy: 0.8313 \n",
      "Epoch 11: val_accuracy improved from 0.83243 to 0.85946, saving model to bestmodel.h5\n",
      "53/53 [==============================] - 823s 16s/step - loss: 0.3892 - accuracy: 0.8313 - val_loss: 0.3427 - val_accuracy: 0.8595\n",
      "Epoch 12/30\n",
      "53/53 [==============================] - ETA: 0s - loss: 0.3718 - accuracy: 0.8260\n",
      "Epoch 12: val_accuracy did not improve from 0.85946\n",
      "53/53 [==============================] - 419s 8s/step - loss: 0.3718 - accuracy: 0.8260 - val_loss: 0.3436 - val_accuracy: 0.8541\n",
      "Epoch 13/30\n",
      "53/53 [==============================] - ETA: 0s - loss: 0.3570 - accuracy: 0.8427\n",
      "Epoch 13: val_accuracy improved from 0.85946 to 0.87568, saving model to bestmodel.h5\n",
      "53/53 [==============================] - 481s 9s/step - loss: 0.3570 - accuracy: 0.8427 - val_loss: 0.3281 - val_accuracy: 0.8757\n",
      "Epoch 14/30\n",
      "53/53 [==============================] - ETA: 0s - loss: 0.3447 - accuracy: 0.8571\n",
      "Epoch 14: val_accuracy did not improve from 0.87568\n",
      "53/53 [==============================] - 477s 9s/step - loss: 0.3447 - accuracy: 0.8571 - val_loss: 0.3073 - val_accuracy: 0.8757\n",
      "Epoch 15/30\n",
      "53/53 [==============================] - ETA: 0s - loss: 0.3135 - accuracy: 0.8594\n",
      "Epoch 15: val_accuracy improved from 0.87568 to 0.88649, saving model to bestmodel.h5\n",
      "53/53 [==============================] - 473s 9s/step - loss: 0.3135 - accuracy: 0.8594 - val_loss: 0.2937 - val_accuracy: 0.8865\n",
      "Epoch 16/30\n",
      "53/53 [==============================] - ETA: 0s - loss: 0.3163 - accuracy: 0.8600\n",
      "Epoch 16: val_accuracy did not improve from 0.88649\n",
      "53/53 [==============================] - 478s 9s/step - loss: 0.3163 - accuracy: 0.8600 - val_loss: 0.3118 - val_accuracy: 0.8811\n",
      "Epoch 17/30\n",
      "53/53 [==============================] - ETA: 0s - loss: 0.2907 - accuracy: 0.8792\n",
      "Epoch 17: val_accuracy did not improve from 0.88649\n",
      "53/53 [==============================] - 489s 9s/step - loss: 0.2907 - accuracy: 0.8792 - val_loss: 0.2950 - val_accuracy: 0.8703\n",
      "Epoch 18/30\n",
      "53/53 [==============================] - ETA: 0s - loss: 0.2781 - accuracy: 0.8864\n",
      "Epoch 18: val_accuracy did not improve from 0.88649\n",
      "53/53 [==============================] - 501s 9s/step - loss: 0.2781 - accuracy: 0.8864 - val_loss: 0.2985 - val_accuracy: 0.8703\n",
      "Epoch 19/30\n",
      "53/53 [==============================] - ETA: 0s - loss: 0.2709 - accuracy: 0.8852\n",
      "Epoch 19: val_accuracy improved from 0.88649 to 0.90811, saving model to bestmodel.h5\n",
      "53/53 [==============================] - 397s 7s/step - loss: 0.2709 - accuracy: 0.8852 - val_loss: 0.2483 - val_accuracy: 0.9081\n",
      "Epoch 20/30\n",
      "53/53 [==============================] - ETA: 0s - loss: 0.2635 - accuracy: 0.8929\n",
      "Epoch 20: val_accuracy did not improve from 0.90811\n",
      "53/53 [==============================] - 294s 6s/step - loss: 0.2635 - accuracy: 0.8929 - val_loss: 0.2829 - val_accuracy: 0.8865\n",
      "Epoch 21/30\n",
      "53/53 [==============================] - ETA: 0s - loss: 0.2283 - accuracy: 0.9079\n",
      "Epoch 21: val_accuracy did not improve from 0.90811\n",
      "53/53 [==============================] - 297s 6s/step - loss: 0.2283 - accuracy: 0.9079 - val_loss: 0.2805 - val_accuracy: 0.8595\n",
      "Epoch 22/30\n",
      "53/53 [==============================] - ETA: 0s - loss: 0.2262 - accuracy: 0.9151\n",
      "Epoch 22: val_accuracy improved from 0.90811 to 0.91892, saving model to bestmodel.h5\n",
      "53/53 [==============================] - 310s 6s/step - loss: 0.2262 - accuracy: 0.9151 - val_loss: 0.2275 - val_accuracy: 0.9189\n",
      "Epoch 23/30\n",
      "53/53 [==============================] - ETA: 0s - loss: 0.2035 - accuracy: 0.9103\n",
      "Epoch 23: val_accuracy did not improve from 0.91892\n",
      "53/53 [==============================] - 327s 6s/step - loss: 0.2035 - accuracy: 0.9103 - val_loss: 0.2972 - val_accuracy: 0.8865\n",
      "Epoch 24/30\n",
      "53/53 [==============================] - ETA: 0s - loss: 0.2206 - accuracy: 0.9049\n",
      "Epoch 24: val_accuracy did not improve from 0.91892\n",
      "53/53 [==============================] - 325s 6s/step - loss: 0.2206 - accuracy: 0.9049 - val_loss: 0.2491 - val_accuracy: 0.8973\n",
      "Epoch 25/30\n",
      "53/53 [==============================] - ETA: 0s - loss: 0.1833 - accuracy: 0.9276\n",
      "Epoch 25: val_accuracy did not improve from 0.91892\n",
      "53/53 [==============================] - 340s 6s/step - loss: 0.1833 - accuracy: 0.9276 - val_loss: 0.2260 - val_accuracy: 0.8919\n",
      "Epoch 26/30\n",
      "53/53 [==============================] - ETA: 0s - loss: 0.1787 - accuracy: 0.9366\n",
      "Epoch 26: val_accuracy improved from 0.91892 to 0.92432, saving model to bestmodel.h5\n",
      "53/53 [==============================] - 349s 7s/step - loss: 0.1787 - accuracy: 0.9366 - val_loss: 0.2095 - val_accuracy: 0.9243\n",
      "Epoch 27/30\n",
      "53/53 [==============================] - ETA: 0s - loss: 0.1741 - accuracy: 0.9300\n",
      "Epoch 27: val_accuracy did not improve from 0.92432\n",
      "53/53 [==============================] - 337s 6s/step - loss: 0.1741 - accuracy: 0.9300 - val_loss: 0.2135 - val_accuracy: 0.9081\n",
      "Epoch 28/30\n",
      "53/53 [==============================] - ETA: 0s - loss: 0.1750 - accuracy: 0.9312\n",
      "Epoch 28: val_accuracy improved from 0.92432 to 0.93514, saving model to bestmodel.h5\n",
      "53/53 [==============================] - 345s 6s/step - loss: 0.1750 - accuracy: 0.9312 - val_loss: 0.2134 - val_accuracy: 0.9351\n",
      "Epoch 29/30\n"
     ]
    },
    {
     "name": "stdout",
     "output_type": "stream",
     "text": [
      "53/53 [==============================] - ETA: 0s - loss: 0.1730 - accuracy: 0.9366\n",
      "Epoch 29: val_accuracy did not improve from 0.93514\n",
      "53/53 [==============================] - 261s 5s/step - loss: 0.1730 - accuracy: 0.9366 - val_loss: 0.2428 - val_accuracy: 0.9081\n",
      "Epoch 30/30\n",
      "53/53 [==============================] - ETA: 0s - loss: 0.1413 - accuracy: 0.9426\n",
      "Epoch 30: val_accuracy did not improve from 0.93514\n",
      "53/53 [==============================] - 250s 5s/step - loss: 0.1413 - accuracy: 0.9426 - val_loss: 0.2344 - val_accuracy: 0.9297\n"
     ]
    }
   ],
   "source": [
    "hs = model.fit_generator(generator= train_data,\n",
    "                          epochs=30,  validation_data= val_data, callbacks=mc)"
   ]
  },
  {
   "cell_type": "code",
   "execution_count": 14,
   "id": "b6dc3a0a",
   "metadata": {},
   "outputs": [
    {
     "data": {
      "text/plain": [
       "dict_keys(['loss', 'accuracy', 'val_loss', 'val_accuracy'])"
      ]
     },
     "execution_count": 14,
     "metadata": {},
     "output_type": "execute_result"
    }
   ],
   "source": [
    "h = hs.history\n",
    "h.keys()"
   ]
  },
  {
   "cell_type": "code",
   "execution_count": 15,
   "id": "66112b2b",
   "metadata": {},
   "outputs": [],
   "source": [
    "def plot_metrics(history):\n",
    "    \n",
    "    train_loss = history['loss']\n",
    "    val_loss = history['val_loss']\n",
    "    train_acc = history['accuracy']\n",
    "    val_acc = history['val_accuracy']\n",
    "    \n",
    "    # Loss\n",
    "    plt.figure()\n",
    "    plt.plot(train_loss, label='Training Loss')\n",
    "    plt.plot(val_loss, label='Validation Loss')\n",
    "    plt.title('Loss')\n",
    "    plt.legend()\n",
    "    plt.show()\n",
    "    \n",
    "    # Accuracy\n",
    "    plt.figure()\n",
    "    plt.plot(train_acc, label='Training Accuracy')\n",
    "    plt.plot(val_acc, label='Validation Accuracy')\n",
    "    plt.title('Accuracy')\n",
    "    plt.legend()\n",
    "    plt.show()"
   ]
  },
  {
   "cell_type": "code",
   "execution_count": 16,
   "id": "54280516",
   "metadata": {},
   "outputs": [
    {
     "data": {
      "image/png": "[encoded data removed]",
      "text/plain": [
       "<Figure size 432x288 with 1 Axes>"
      ]
     },
     "metadata": {
      "needs_background": "light"
     },
     "output_type": "display_data"
    },
    {
     "data": {
      "image/png": "[encoded data removed]",
      "text/plain": [
       "<Figure size 432x288 with 1 Axes>"
      ]
     },
     "metadata": {
      "needs_background": "light"
     },
     "output_type": "display_data"
    }
   ],
   "source": [
    "plot_metrics(h) "
   ]
  },
  {
   "cell_type": "code",
   "execution_count": 3,
   "id": "ddcb685e",
   "metadata": {},
   "outputs": [],
   "source": [
    "best_model = load_model(filepath='bestmodel.h5')"
   ]
  },
  {
   "cell_type": "code",
   "execution_count": 3,
   "id": "c3dc808a",
   "metadata": {},
   "outputs": [
    {
     "data": {
      "text/plain": [
       "['loss', 'accuracy']"
      ]
     },
     "execution_count": 3,
     "metadata": {},
     "output_type": "execute_result"
    }
   ],
   "source": [
    "best_model.metrics_names"
   ]
  },
  {
   "cell_type": "code",
   "execution_count": null,
   "id": "2ad8b5af",
   "metadata": {},
   "outputs": [],
   "source": []
  },
  {
   "cell_type": "code",
   "execution_count": 15,
   "id": "688f93e3",
   "metadata": {},
   "outputs": [],
   "source": [
    "X_test='test/no'\n",
    "Y_test= 'test/yes'"
   ]
  },
  {
   "cell_type": "code",
   "execution_count": 6,
   "id": "4b38c319",
   "metadata": {},
   "outputs": [
    {
     "ename": "NameError",
     "evalue": "name 'test_data' is not defined",
     "output_type": "error",
     "traceback": [
      "\u001b[1;31m---------------------------------------------------------------------------\u001b[0m",
      "\u001b[1;31mNameError\u001b[0m                                 Traceback (most recent call last)",
      "Input \u001b[1;32mIn [6]\u001b[0m, in \u001b[0;36m<cell line: 1>\u001b[1;34m()\u001b[0m\n\u001b[1;32m----> 1\u001b[0m loss, accuracy \u001b[38;5;241m=\u001b[39m best_model\u001b[38;5;241m.\u001b[39mevaluate(\u001b[43mtest_data\u001b[49m)\n",
      "\u001b[1;31mNameError\u001b[0m: name 'test_data' is not defined"
     ]
    }
   ],
   "source": [
    "loss, accuracy = best_model.evaluate(test_data)"
   ]
  },
  {
   "cell_type": "markdown",
   "id": "85b4448b",
   "metadata": {},
   "source": [
    "Accuracy of the best model on the testing data:"
   ]
  },
  {
   "cell_type": "code",
   "execution_count": 23,
   "id": "fac7e87b",
   "metadata": {},
   "outputs": [
    {
     "name": "stdout",
     "output_type": "stream",
     "text": [
      "Test Loss = 0.19319137930870056\n",
      "Test Accuracy = 0.9417475461959839\n"
     ]
    }
   ],
   "source": [
    "print (f\"Test Loss = {loss}\")\n",
    "print (f\"Test Accuracy = {accuracy}\")"
   ]
  },
  {
   "cell_type": "code",
   "execution_count": 9,
   "id": "83c867cf",
   "metadata": {},
   "outputs": [
    {
     "name": "stdout",
     "output_type": "stream",
     "text": [
      "Found 206 images belonging to 2 classes.\n"
     ]
    }
   ],
   "source": [
    "path= \"test\"\n",
    "test_data = preprocessingimages2(path)"
   ]
  },
  {
   "cell_type": "code",
   "execution_count": 10,
   "id": "fe631ca5",
   "metadata": {},
   "outputs": [
    {
     "ename": "FileNotFoundError",
     "evalue": "[Errno 2] No such file or directory: 'ASD_119.jpg'",
     "output_type": "error",
     "traceback": [
      "\u001b[1;31m---------------------------------------------------------------------------\u001b[0m",
      "\u001b[1;31mFileNotFoundError\u001b[0m                         Traceback (most recent call last)",
      "Input \u001b[1;32mIn [10]\u001b[0m, in \u001b[0;36m<cell line: 6>\u001b[1;34m()\u001b[0m\n\u001b[0;32m      2\u001b[0m \u001b[38;5;28;01mimport\u001b[39;00m \u001b[38;5;21;01mnumpy\u001b[39;00m \u001b[38;5;28;01mas\u001b[39;00m \u001b[38;5;21;01mnp\u001b[39;00m\n\u001b[0;32m      4\u001b[0m path \u001b[38;5;241m=\u001b[39m\u001b[38;5;124m\"\u001b[39m\u001b[38;5;124mASD_119.jpg\u001b[39m\u001b[38;5;124m\"\u001b[39m\n\u001b[1;32m----> 6\u001b[0m img \u001b[38;5;241m=\u001b[39m \u001b[43mload_img\u001b[49m\u001b[43m(\u001b[49m\u001b[43mpath\u001b[49m\u001b[43m,\u001b[49m\u001b[43m \u001b[49m\u001b[43mtarget_size\u001b[49m\u001b[43m \u001b[49m\u001b[38;5;241;43m=\u001b[39;49m\u001b[43m \u001b[49m\u001b[43m(\u001b[49m\u001b[38;5;241;43m224\u001b[39;49m\u001b[43m,\u001b[49m\u001b[43m \u001b[49m\u001b[38;5;241;43m224\u001b[39;49m\u001b[43m)\u001b[49m\u001b[43m)\u001b[49m\n\u001b[0;32m      8\u001b[0m input_arr \u001b[38;5;241m=\u001b[39m img_to_array(img)\u001b[38;5;241m/\u001b[39m\u001b[38;5;241m225\u001b[39m\n\u001b[0;32m     10\u001b[0m input_arr\u001b[38;5;241m.\u001b[39mshape\n",
      "File \u001b[1;32mC:\\python\\lib\\site-packages\\keras\\utils\\image_utils.py:422\u001b[0m, in \u001b[0;36mload_img\u001b[1;34m(path, grayscale, color_mode, target_size, interpolation, keep_aspect_ratio)\u001b[0m\n\u001b[0;32m    420\u001b[0m     \u001b[38;5;28;01mif\u001b[39;00m \u001b[38;5;28misinstance\u001b[39m(path, pathlib\u001b[38;5;241m.\u001b[39mPath):\n\u001b[0;32m    421\u001b[0m         path \u001b[38;5;241m=\u001b[39m \u001b[38;5;28mstr\u001b[39m(path\u001b[38;5;241m.\u001b[39mresolve())\n\u001b[1;32m--> 422\u001b[0m     \u001b[38;5;28;01mwith\u001b[39;00m \u001b[38;5;28;43mopen\u001b[39;49m\u001b[43m(\u001b[49m\u001b[43mpath\u001b[49m\u001b[43m,\u001b[49m\u001b[43m \u001b[49m\u001b[38;5;124;43m\"\u001b[39;49m\u001b[38;5;124;43mrb\u001b[39;49m\u001b[38;5;124;43m\"\u001b[39;49m\u001b[43m)\u001b[49m \u001b[38;5;28;01mas\u001b[39;00m f:\n\u001b[0;32m    423\u001b[0m         img \u001b[38;5;241m=\u001b[39m pil_image\u001b[38;5;241m.\u001b[39mopen(io\u001b[38;5;241m.\u001b[39mBytesIO(f\u001b[38;5;241m.\u001b[39mread()))\n\u001b[0;32m    424\u001b[0m \u001b[38;5;28;01melse\u001b[39;00m:\n",
      "\u001b[1;31mFileNotFoundError\u001b[0m: [Errno 2] No such file or directory: 'ASD_119.jpg'"
     ]
    }
   ],
   "source": [
    "from tensorflow.keras.preprocessing.image import load_img, img_to_array\n",
    "import numpy as np\n",
    "\n",
    "path =\"ASD_119.jpg\"\n",
    "\n",
    "img = load_img(path, target_size = (224, 224))\n",
    "\n",
    "input_arr = img_to_array(img)/225\n",
    "\n",
    "input_arr.shape\n",
    "\n",
    "input_arr = np.expand_dims(input_arr, axis=0)\n",
    "\n",
    "pred = (best_model.predict(input_arr) > 0.5).astype(\"int32\")\n",
    "\n",
    "if (pred == 1):\n",
    "    print(\"Brain Tumor is Detected\")\n",
    "else:\n",
    "    print(\"Brain Tumor is not Detected\")"
   ]
  },
  {
   "cell_type": "code",
   "execution_count": 12,
   "id": "f5a47bbf",
   "metadata": {},
   "outputs": [
    {
     "name": "stdout",
     "output_type": "stream",
     "text": [
      "Found 206 images belonging to 2 classes.\n"
     ]
    },
    {
     "data": {
      "text/plain": [
       "<keras.preprocessing.image.DirectoryIterator at 0x169815d1cf0>"
      ]
     },
     "execution_count": 12,
     "metadata": {},
     "output_type": "execute_result"
    }
   ],
   "source": [
    "preprocessingimages2(path)"
   ]
  },
  {
   "cell_type": "code",
   "execution_count": 14,
   "id": "e3d49e0a",
   "metadata": {},
   "outputs": [
    {
     "ename": "NameError",
     "evalue": "name 'x_val' is not defined",
     "output_type": "error",
     "traceback": [
      "\u001b[1;31m---------------------------------------------------------------------------\u001b[0m",
      "\u001b[1;31mNameError\u001b[0m                                 Traceback (most recent call last)",
      "Input \u001b[1;32mIn [14]\u001b[0m, in \u001b[0;36m<cell line: 33>\u001b[1;34m()\u001b[0m\n\u001b[0;32m     30\u001b[0m     plt\u001b[38;5;241m.\u001b[39mxlabel(\u001b[38;5;124m'\u001b[39m\u001b[38;5;124mPredicted label\u001b[39m\u001b[38;5;124m'\u001b[39m)\n\u001b[0;32m     32\u001b[0m \u001b[38;5;66;03m# Make predictions using the validation dataset\u001b[39;00m\n\u001b[1;32m---> 33\u001b[0m Y_pred \u001b[38;5;241m=\u001b[39m best_model\u001b[38;5;241m.\u001b[39mpredict(\u001b[43mx_val\u001b[49m)\n\u001b[0;32m     34\u001b[0m \u001b[38;5;66;03m# Convert predictions to one hot vectors \u001b[39;00m\n\u001b[0;32m     35\u001b[0m Y_pred_classes \u001b[38;5;241m=\u001b[39m np\u001b[38;5;241m.\u001b[39margmax(Y_pred,axis \u001b[38;5;241m=\u001b[39m \u001b[38;5;241m1\u001b[39m) \n",
      "\u001b[1;31mNameError\u001b[0m: name 'x_val' is not defined"
     ]
    }
   ],
   "source": [
    "from sklearn.metrics import confusion_matrix\n",
    "import itertools\n",
    "\n",
    "# Plot the confusion matrix \n",
    "# if you wish to add normalization, set normalize = True\n",
    "\n",
    "def plot_confusion_matrix(cm, classes,\n",
    "                          normalize=False,\n",
    "                          title='Confusion matrix',\n",
    "                          cmap=plt.cm.Blues):\n",
    "   \n",
    "    plt.imshow(cm, interpolation='nearest', cmap=cmap)\n",
    "    plt.title(title)\n",
    "    plt.colorbar()\n",
    "    tick_marks = np.arange(len(classes))\n",
    "    plt.xticks(tick_marks, classes, rotation=45)\n",
    "    plt.yticks(tick_marks, classes)\n",
    "\n",
    "    if normalize:\n",
    "        cm = cm.astype('float') / cm.sum(axis=1)[:, np.newaxis]\n",
    "\n",
    "    thresh = cm.max() / 2.\n",
    "    for i, j in itertools.product(range(cm.shape[0]), range(cm.shape[1])):\n",
    "        plt.text(j, i, cm[i, j],\n",
    "                 horizontalalignment=\"center\",\n",
    "                 color=\"white\" if cm[i, j] > thresh else \"black\")\n",
    "\n",
    "    plt.tight_layout()\n",
    "    plt.ylabel('True label')\n",
    "    plt.xlabel('Predicted label')\n",
    "\n",
    "# Make predictions using the validation dataset\n",
    "Y_pred = best_model.predict(x_val)\n",
    "# Convert predictions to one hot vectors \n",
    "Y_pred_classes = np.argmax(Y_pred,axis = 1) \n",
    "# Convert validation observations to one hot vectors\n",
    "Y_true = np.argmax(y_val,axis = 1) \n",
    "# compute the confusion matrix\n",
    "confusion_mtx = confusion_matrix(Y_true, Y_pred_classes) \n",
    "# plot the confusion matrix with range being equal to number of classes\n",
    "plot_confusion_matrix(confusion_mtx, classes = range(5)) "
   ]
  },
  {
   "cell_type": "code",
   "execution_count": null,
   "id": "7feefa2f",
   "metadata": {},
   "outputs": [],
   "source": []
  }
 ],
 "metadata": {
  "kernelspec": {
   "display_name": "Python 3 (ipykernel)",
   "language": "python",
   "name": "python3"
  },
  "language_info": {
   "codemirror_mode": {
    "name": "ipython",
    "version": 3
   },
   "file_extension": ".py",
   "mimetype": "text/x-python",
   "name": "python",
   "nbconvert_exporter": "python",
   "pygments_lexer": "ipython3",
   "version": "3.10.2"
  }
 },
 "nbformat": 4,
 "nbformat_minor": 5
}
